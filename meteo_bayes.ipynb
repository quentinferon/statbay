{
 "cells": [
  {
   "cell_type": "code",
   "execution_count": 1,
   "metadata": {},
   "outputs": [],
   "source": [
    "#import the standard packages for data science\n",
    "import pandas as pd\n",
    "import xtarfile as tarfile\n",
    "import missingno as msno\n",
    "import folium\n",
    "import matplotlib.pyplot as plt"
   ]
  },
  {
   "cell_type": "code",
   "execution_count": 2,
   "metadata": {},
   "outputs": [],
   "source": [
    "stations = pd.read_csv('stations.csv')\n",
    "temps = pd.read_csv('Temps.csv')"
   ]
  },
  {
   "cell_type": "code",
   "execution_count": 3,
   "metadata": {},
   "outputs": [],
   "source": [
    "datex = \"20180101 00:00\"\n",
    "\n",
    "temps[\"date\"] = pd.to_datetime(temps['date'], format='%Y%m%d %H:%M')"
   ]
  },
  {
   "cell_type": "code",
   "execution_count": 48,
   "metadata": {},
   "outputs": [
    {
     "data": {
      "text/plain": [
       "(87600, 4)"
      ]
     },
     "execution_count": 48,
     "metadata": {},
     "output_type": "execute_result"
    }
   ],
   "source": [
    "temps.dropna(axis=1).shape"
   ]
  },
  {
   "cell_type": "code",
   "execution_count": 4,
   "metadata": {},
   "outputs": [
    {
     "name": "stderr",
     "output_type": "stream",
     "text": [
      "C:\\Users\\Asus\\AppData\\Local\\Temp\\ipykernel_3472\\1467157273.py:4: FutureWarning: DataFrame.mean and DataFrame.median with numeric_only=None will include datetime64 and datetime64tz columns in a future version.\n",
      "  hourlyMean = temps.groupby(temps['date'].apply(get_hour)).apply(lambda x: x.mean() - 273.15)\n"
     ]
    }
   ],
   "source": [
    "def get_hour(x):\n",
    "    return x.floor('H')\n",
    "\n",
    "hourlyMean = temps.groupby(temps['date'].apply(get_hour)).apply(lambda x: x.mean() - 273.15)\n"
   ]
  },
  {
   "cell_type": "code",
   "execution_count": 7,
   "metadata": {},
   "outputs": [
    {
     "data": {
      "text/plain": [
       "(8760, 533)"
      ]
     },
     "execution_count": 7,
     "metadata": {},
     "output_type": "execute_result"
    }
   ],
   "source": [
    "hourlyMean.shape"
   ]
  },
  {
   "cell_type": "code",
   "execution_count": 8,
   "metadata": {},
   "outputs": [],
   "source": [
    "goodhours = hourlyMean[hourlyMean.columns[hourlyMean.isnull().mean() < 0.001]]"
   ]
  },
  {
   "cell_type": "code",
   "execution_count": 9,
   "metadata": {},
   "outputs": [
    {
     "data": {
      "text/plain": [
       "(8760, 246)"
      ]
     },
     "execution_count": 9,
     "metadata": {},
     "output_type": "execute_result"
    }
   ],
   "source": [
    "goodhours.shape"
   ]
  },
  {
   "cell_type": "code",
   "execution_count": 37,
   "metadata": {},
   "outputs": [
    {
     "data": {
      "text/html": [
       "<div style=\"width:100%;\"><div style=\"position:relative;width:100%;height:0;padding-bottom:60%;\"><span style=\"color:#565656\">Make this Notebook Trusted to load map: File -> Trust Notebook</span><iframe srcdoc=\"&lt;!DOCTYPE html&gt;\n",
       "&lt;html&gt;\n",
       "&lt;head&gt;\n",
       "    \n",
       "    &lt;meta http-equiv=&quot;content-type&quot; content=&quot;text/html; charset=UTF-8&quot; /&gt;\n",
       "    \n",
       "        &lt;script&gt;\n",
       "            L_NO_TOUCH = false;\n",
       "            L_DISABLE_3D = false;\n",
       "        &lt;/script&gt;\n",
       "    \n",
       "    &lt;style&gt;html, body {width: 100%;height: 100%;margin: 0;padding: 0;}&lt;/style&gt;\n",
       "    &lt;style&gt;#map {position:absolute;top:0;bottom:0;right:0;left:0;}&lt;/style&gt;\n",
       "    &lt;script src=&quot;https://cdn.jsdelivr.net/npm/leaflet@1.6.0/dist/leaflet.js&quot;&gt;&lt;/script&gt;\n",
       "    &lt;script src=&quot;https://code.jquery.com/jquery-1.12.4.min.js&quot;&gt;&lt;/script&gt;\n",
       "    &lt;script src=&quot;https://maxcdn.bootstrapcdn.com/bootstrap/3.2.0/js/bootstrap.min.js&quot;&gt;&lt;/script&gt;\n",
       "    &lt;script src=&quot;https://cdnjs.cloudflare.com/ajax/libs/Leaflet.awesome-markers/2.0.2/leaflet.awesome-markers.js&quot;&gt;&lt;/script&gt;\n",
       "    &lt;link rel=&quot;stylesheet&quot; href=&quot;https://cdn.jsdelivr.net/npm/leaflet@1.6.0/dist/leaflet.css&quot;/&gt;\n",
       "    &lt;link rel=&quot;stylesheet&quot; href=&quot;https://maxcdn.bootstrapcdn.com/bootstrap/3.2.0/css/bootstrap.min.css&quot;/&gt;\n",
       "    &lt;link rel=&quot;stylesheet&quot; href=&quot;https://maxcdn.bootstrapcdn.com/bootstrap/3.2.0/css/bootstrap-theme.min.css&quot;/&gt;\n",
       "    &lt;link rel=&quot;stylesheet&quot; href=&quot;https://maxcdn.bootstrapcdn.com/font-awesome/4.6.3/css/font-awesome.min.css&quot;/&gt;\n",
       "    &lt;link rel=&quot;stylesheet&quot; href=&quot;https://cdnjs.cloudflare.com/ajax/libs/Leaflet.awesome-markers/2.0.2/leaflet.awesome-markers.css&quot;/&gt;\n",
       "    &lt;link rel=&quot;stylesheet&quot; href=&quot;https://cdn.jsdelivr.net/gh/python-visualization/folium/folium/templates/leaflet.awesome.rotate.min.css&quot;/&gt;\n",
       "    \n",
       "            &lt;meta name=&quot;viewport&quot; content=&quot;width=device-width,\n",
       "                initial-scale=1.0, maximum-scale=1.0, user-scalable=no&quot; /&gt;\n",
       "            &lt;style&gt;\n",
       "                #map_b6042f13c5d8c045cad30fa1ec293908 {\n",
       "                    position: relative;\n",
       "                    width: 100.0%;\n",
       "                    height: 100.0%;\n",
       "                    left: 0.0%;\n",
       "                    top: 0.0%;\n",
       "                }\n",
       "            &lt;/style&gt;\n",
       "        \n",
       "&lt;/head&gt;\n",
       "&lt;body&gt;\n",
       "    \n",
       "    \n",
       "            &lt;div class=&quot;folium-map&quot; id=&quot;map_b6042f13c5d8c045cad30fa1ec293908&quot; &gt;&lt;/div&gt;\n",
       "        \n",
       "&lt;/body&gt;\n",
       "&lt;script&gt;\n",
       "    \n",
       "    \n",
       "            var map_b6042f13c5d8c045cad30fa1ec293908 = L.map(\n",
       "                &quot;map_b6042f13c5d8c045cad30fa1ec293908&quot;,\n",
       "                {\n",
       "                    center: [45.188529, 5.724524],\n",
       "                    crs: L.CRS.EPSG3857,\n",
       "                    zoom: 12,\n",
       "                    zoomControl: true,\n",
       "                    preferCanvas: false,\n",
       "                }\n",
       "            );\n",
       "\n",
       "            \n",
       "\n",
       "        \n",
       "    \n",
       "            var tile_layer_bd66e1f07a038b100e65ada12d753649 = L.tileLayer(\n",
       "                &quot;https://{s}.tile.openstreetmap.org/{z}/{x}/{y}.png&quot;,\n",
       "                {&quot;attribution&quot;: &quot;Data by \\u0026copy; \\u003ca href=\\&quot;http://openstreetmap.org\\&quot;\\u003eOpenStreetMap\\u003c/a\\u003e, under \\u003ca href=\\&quot;http://www.openstreetmap.org/copyright\\&quot;\\u003eODbL\\u003c/a\\u003e.&quot;, &quot;detectRetina&quot;: false, &quot;maxNativeZoom&quot;: 18, &quot;maxZoom&quot;: 18, &quot;minZoom&quot;: 0, &quot;noWrap&quot;: false, &quot;opacity&quot;: 1, &quot;subdomains&quot;: &quot;abc&quot;, &quot;tms&quot;: false}\n",
       "            ).addTo(map_b6042f13c5d8c045cad30fa1ec293908);\n",
       "        \n",
       "    \n",
       "            var marker_e2bfb83dfe214af5f0428b1e74f6d9cf = L.marker(\n",
       "                [44.96153239726028, 5.421532397260274],\n",
       "                {}\n",
       "            ).addTo(map_b6042f13c5d8c045cad30fa1ec293908);\n",
       "        \n",
       "    \n",
       "            var marker_ab6a2d4aa6b1a8fbb8937c79a4f70697 = L.marker(\n",
       "                [44.67229830752364, 5.710766102507881],\n",
       "                {}\n",
       "            ).addTo(map_b6042f13c5d8c045cad30fa1ec293908);\n",
       "        \n",
       "    \n",
       "            var marker_56d21a2f564ad2325318ded7cea8db2b = L.marker(\n",
       "                [45.00923382272354, 5.292298531829391],\n",
       "                {}\n",
       "            ).addTo(map_b6042f13c5d8c045cad30fa1ec293908);\n",
       "        \n",
       "    \n",
       "            var marker_c42ec4e26ada89051882e0a371633704 = L.marker(\n",
       "                [44.93616804237878, 5.786934433903026],\n",
       "                {}\n",
       "            ).addTo(map_b6042f13c5d8c045cad30fa1ec293908);\n",
       "        \n",
       "    \n",
       "            var marker_546cc4e7160ddd6d782bb3e66353c67b = L.marker(\n",
       "                [45.39229859589041, 5.657701404109589],\n",
       "                {}\n",
       "            ).addTo(map_b6042f13c5d8c045cad30fa1ec293908);\n",
       "        \n",
       "    \n",
       "            var marker_4fb310394357b71967e70a0da953ea87 = L.marker(\n",
       "                [45.36306548251781, 5.312299111888351],\n",
       "                {}\n",
       "            ).addTo(map_b6042f13c5d8c045cad30fa1ec293908);\n",
       "        \n",
       "    \n",
       "            var marker_a28c7ad1045d2fb3dc620e23cef9c2e8 = L.marker(\n",
       "                [45.30976861428865, 5.8841281023814425],\n",
       "                {}\n",
       "            ).addTo(map_b6042f13c5d8c045cad30fa1ec293908);\n",
       "        \n",
       "    \n",
       "            var marker_bcc3428ef1b5d0019dcc24c948a74971 = L.marker(\n",
       "                [45.317701875278544, 5.803064166295268],\n",
       "                {}\n",
       "            ).addTo(map_b6042f13c5d8c045cad30fa1ec293908);\n",
       "        \n",
       "    \n",
       "            var marker_e0d1486de427af87741c20e0c89f15d1 = L.marker(\n",
       "                [45.26616900684932, 6.016935205479451],\n",
       "                {}\n",
       "            ).addTo(map_b6042f13c5d8c045cad30fa1ec293908);\n",
       "        \n",
       "    \n",
       "            var marker_9db87f243a96ce7395618eac67eba7a4 = L.marker(\n",
       "                [45.2177014979905, 5.848467665327],\n",
       "                {}\n",
       "            ).addTo(map_b6042f13c5d8c045cad30fa1ec293908);\n",
       "        \n",
       "    \n",
       "            var marker_13727f8c5ed9079d5e501ea2731c1710 = L.marker(\n",
       "                [45.07846772682615, 5.560766136586926],\n",
       "                {}\n",
       "            ).addTo(map_b6042f13c5d8c045cad30fa1ec293908);\n",
       "        \n",
       "    \n",
       "            var marker_77a6b0cac9e7ea78e75dae121f5658cc = L.marker(\n",
       "                [45.493064495500846, 6.04923387612479],\n",
       "                {}\n",
       "            ).addTo(map_b6042f13c5d8c045cad30fa1ec293908);\n",
       "        \n",
       "&lt;/script&gt;\n",
       "&lt;/html&gt;\" style=\"position:absolute;width:100%;height:100%;left:0;top:0;border:none !important;\" allowfullscreen webkitallowfullscreen mozallowfullscreen></iframe></div></div>"
      ],
      "text/plain": [
       "<folium.folium.Map at 0x222f7403a30>"
      ]
     },
     "execution_count": 37,
     "metadata": {},
     "output_type": "execute_result"
    }
   ],
   "source": [
    "m = folium.Map(location=[45.188529, 5.724524], zoom_start=12)\n",
    "for i in goodhours.columns:\n",
    "    folium.Marker([stations.set_index(\"number_sta\").loc[int(i), 'lat'], stations.set_index(\"number_sta\").loc[int(i), 'lon']]).add_to(m)\n",
    "    \n",
    "m"
   ]
  },
  {
   "cell_type": "code",
   "execution_count": 60,
   "metadata": {},
   "outputs": [
    {
     "name": "stderr",
     "output_type": "stream",
     "text": [
      "C:\\Users\\Asus\\AppData\\Local\\Temp\\ipykernel_12296\\156039044.py:1: SettingWithCopyWarning: \n",
      "A value is trying to be set on a copy of a slice from a DataFrame\n",
      "\n",
      "See the caveats in the documentation: https://pandas.pydata.org/pandas-docs/stable/user_guide/indexing.html#returning-a-view-versus-a-copy\n",
      "  goodhours.fillna(method='ffill', inplace=True)\n"
     ]
    }
   ],
   "source": [
    "goodhours.fillna(method='ffill', inplace=True)\n",
    "goodhours.columns = [int(i) for i in goodhours.columns]"
   ]
  },
  {
   "cell_type": "code",
   "execution_count": 46,
   "metadata": {},
   "outputs": [
    {
     "name": "stdout",
     "output_type": "stream",
     "text": [
      "[1 1 0 1 0 0 1 1 2 0 1 0]\n"
     ]
    }
   ],
   "source": [
    "from sklearn.cluster import KMeans\n",
    "kmeans = KMeans(n_clusters=3, random_state=0).fit(goodhours.T)\n",
    "\n",
    "print(kmeans.labels_)"
   ]
  },
  {
   "cell_type": "code",
   "execution_count": 47,
   "metadata": {},
   "outputs": [
    {
     "data": {
      "text/plain": [
       "12"
      ]
     },
     "execution_count": 47,
     "metadata": {},
     "output_type": "execute_result"
    }
   ],
   "source": [
    "len(kmeans.labels_)"
   ]
  },
  {
   "cell_type": "code",
   "execution_count": 50,
   "metadata": {},
   "outputs": [
    {
     "data": {
      "text/html": [
       "<div style=\"width:100%;\"><div style=\"position:relative;width:100%;height:0;padding-bottom:60%;\"><span style=\"color:#565656\">Make this Notebook Trusted to load map: File -> Trust Notebook</span><iframe srcdoc=\"&lt;!DOCTYPE html&gt;\n",
       "&lt;html&gt;\n",
       "&lt;head&gt;\n",
       "    \n",
       "    &lt;meta http-equiv=&quot;content-type&quot; content=&quot;text/html; charset=UTF-8&quot; /&gt;\n",
       "    \n",
       "        &lt;script&gt;\n",
       "            L_NO_TOUCH = false;\n",
       "            L_DISABLE_3D = false;\n",
       "        &lt;/script&gt;\n",
       "    \n",
       "    &lt;style&gt;html, body {width: 100%;height: 100%;margin: 0;padding: 0;}&lt;/style&gt;\n",
       "    &lt;style&gt;#map {position:absolute;top:0;bottom:0;right:0;left:0;}&lt;/style&gt;\n",
       "    &lt;script src=&quot;https://cdn.jsdelivr.net/npm/leaflet@1.6.0/dist/leaflet.js&quot;&gt;&lt;/script&gt;\n",
       "    &lt;script src=&quot;https://code.jquery.com/jquery-1.12.4.min.js&quot;&gt;&lt;/script&gt;\n",
       "    &lt;script src=&quot;https://maxcdn.bootstrapcdn.com/bootstrap/3.2.0/js/bootstrap.min.js&quot;&gt;&lt;/script&gt;\n",
       "    &lt;script src=&quot;https://cdnjs.cloudflare.com/ajax/libs/Leaflet.awesome-markers/2.0.2/leaflet.awesome-markers.js&quot;&gt;&lt;/script&gt;\n",
       "    &lt;link rel=&quot;stylesheet&quot; href=&quot;https://cdn.jsdelivr.net/npm/leaflet@1.6.0/dist/leaflet.css&quot;/&gt;\n",
       "    &lt;link rel=&quot;stylesheet&quot; href=&quot;https://maxcdn.bootstrapcdn.com/bootstrap/3.2.0/css/bootstrap.min.css&quot;/&gt;\n",
       "    &lt;link rel=&quot;stylesheet&quot; href=&quot;https://maxcdn.bootstrapcdn.com/bootstrap/3.2.0/css/bootstrap-theme.min.css&quot;/&gt;\n",
       "    &lt;link rel=&quot;stylesheet&quot; href=&quot;https://maxcdn.bootstrapcdn.com/font-awesome/4.6.3/css/font-awesome.min.css&quot;/&gt;\n",
       "    &lt;link rel=&quot;stylesheet&quot; href=&quot;https://cdnjs.cloudflare.com/ajax/libs/Leaflet.awesome-markers/2.0.2/leaflet.awesome-markers.css&quot;/&gt;\n",
       "    &lt;link rel=&quot;stylesheet&quot; href=&quot;https://cdn.jsdelivr.net/gh/python-visualization/folium/folium/templates/leaflet.awesome.rotate.min.css&quot;/&gt;\n",
       "    \n",
       "            &lt;meta name=&quot;viewport&quot; content=&quot;width=device-width,\n",
       "                initial-scale=1.0, maximum-scale=1.0, user-scalable=no&quot; /&gt;\n",
       "            &lt;style&gt;\n",
       "                #map_2265d6277d2ebee137aa7339f6760c4a {\n",
       "                    position: relative;\n",
       "                    width: 100.0%;\n",
       "                    height: 100.0%;\n",
       "                    left: 0.0%;\n",
       "                    top: 0.0%;\n",
       "                }\n",
       "            &lt;/style&gt;\n",
       "        \n",
       "&lt;/head&gt;\n",
       "&lt;body&gt;\n",
       "    \n",
       "    \n",
       "            &lt;div class=&quot;folium-map&quot; id=&quot;map_2265d6277d2ebee137aa7339f6760c4a&quot; &gt;&lt;/div&gt;\n",
       "        \n",
       "&lt;/body&gt;\n",
       "&lt;script&gt;\n",
       "    \n",
       "    \n",
       "            var map_2265d6277d2ebee137aa7339f6760c4a = L.map(\n",
       "                &quot;map_2265d6277d2ebee137aa7339f6760c4a&quot;,\n",
       "                {\n",
       "                    center: [45.188529, 5.724524],\n",
       "                    crs: L.CRS.EPSG3857,\n",
       "                    zoom: 12,\n",
       "                    zoomControl: true,\n",
       "                    preferCanvas: false,\n",
       "                }\n",
       "            );\n",
       "\n",
       "            \n",
       "\n",
       "        \n",
       "    \n",
       "            var tile_layer_f7ee4bec4ec3c8905f1797f929b00371 = L.tileLayer(\n",
       "                &quot;https://{s}.tile.openstreetmap.org/{z}/{x}/{y}.png&quot;,\n",
       "                {&quot;attribution&quot;: &quot;Data by \\u0026copy; \\u003ca href=\\&quot;http://openstreetmap.org\\&quot;\\u003eOpenStreetMap\\u003c/a\\u003e, under \\u003ca href=\\&quot;http://www.openstreetmap.org/copyright\\&quot;\\u003eODbL\\u003c/a\\u003e.&quot;, &quot;detectRetina&quot;: false, &quot;maxNativeZoom&quot;: 18, &quot;maxZoom&quot;: 18, &quot;minZoom&quot;: 0, &quot;noWrap&quot;: false, &quot;opacity&quot;: 1, &quot;subdomains&quot;: &quot;abc&quot;, &quot;tms&quot;: false}\n",
       "            ).addTo(map_2265d6277d2ebee137aa7339f6760c4a);\n",
       "        \n",
       "    \n",
       "            var marker_0bdb9c668dcebe6639fc8e9991bb78f8 = L.marker(\n",
       "                [44.96153239726028, 5.421532397260274],\n",
       "                {}\n",
       "            ).addTo(map_2265d6277d2ebee137aa7339f6760c4a);\n",
       "        \n",
       "    \n",
       "            var icon_aa459be2aa42d40dfe1c446c2f53d366 = L.AwesomeMarkers.icon(\n",
       "                {&quot;extraClasses&quot;: &quot;fa-rotate-0&quot;, &quot;icon&quot;: &quot;info-sign&quot;, &quot;iconColor&quot;: &quot;white&quot;, &quot;markerColor&quot;: &quot;blue&quot;, &quot;prefix&quot;: &quot;glyphicon&quot;}\n",
       "            );\n",
       "            marker_0bdb9c668dcebe6639fc8e9991bb78f8.setIcon(icon_aa459be2aa42d40dfe1c446c2f53d366);\n",
       "        \n",
       "    \n",
       "        var popup_fa13c242ca2b1c397f83042ce20beb9a = L.popup({&quot;maxWidth&quot;: &quot;100%&quot;});\n",
       "\n",
       "        \n",
       "            \n",
       "                var html_8c3fa51718a5ac5a2336e8eaa6a1668f = $(`&lt;div id=&quot;html_8c3fa51718a5ac5a2336e8eaa6a1668f&quot; style=&quot;width: 100.0%; height: 100.0%;&quot;&gt;1&lt;/div&gt;`)[0];\n",
       "                popup_fa13c242ca2b1c397f83042ce20beb9a.setContent(html_8c3fa51718a5ac5a2336e8eaa6a1668f);\n",
       "            \n",
       "        \n",
       "\n",
       "        marker_0bdb9c668dcebe6639fc8e9991bb78f8.bindPopup(popup_fa13c242ca2b1c397f83042ce20beb9a)\n",
       "        ;\n",
       "\n",
       "        \n",
       "    \n",
       "    \n",
       "            var marker_65f3e3a8ba7feaa66477ab4637dba607 = L.marker(\n",
       "                [44.67229830752364, 5.710766102507881],\n",
       "                {}\n",
       "            ).addTo(map_2265d6277d2ebee137aa7339f6760c4a);\n",
       "        \n",
       "    \n",
       "            var icon_61cd7160daeede8491544b48100f6407 = L.AwesomeMarkers.icon(\n",
       "                {&quot;extraClasses&quot;: &quot;fa-rotate-0&quot;, &quot;icon&quot;: &quot;info-sign&quot;, &quot;iconColor&quot;: &quot;white&quot;, &quot;markerColor&quot;: &quot;blue&quot;, &quot;prefix&quot;: &quot;glyphicon&quot;}\n",
       "            );\n",
       "            marker_65f3e3a8ba7feaa66477ab4637dba607.setIcon(icon_61cd7160daeede8491544b48100f6407);\n",
       "        \n",
       "    \n",
       "        var popup_938348dcf5fcd207bd0817346b24ccf1 = L.popup({&quot;maxWidth&quot;: &quot;100%&quot;});\n",
       "\n",
       "        \n",
       "            \n",
       "                var html_dd0136d85e6d4bdd3a5ec0d1cdb98212 = $(`&lt;div id=&quot;html_dd0136d85e6d4bdd3a5ec0d1cdb98212&quot; style=&quot;width: 100.0%; height: 100.0%;&quot;&gt;1&lt;/div&gt;`)[0];\n",
       "                popup_938348dcf5fcd207bd0817346b24ccf1.setContent(html_dd0136d85e6d4bdd3a5ec0d1cdb98212);\n",
       "            \n",
       "        \n",
       "\n",
       "        marker_65f3e3a8ba7feaa66477ab4637dba607.bindPopup(popup_938348dcf5fcd207bd0817346b24ccf1)\n",
       "        ;\n",
       "\n",
       "        \n",
       "    \n",
       "    \n",
       "            var marker_0d17c4eae49848c29d3c5a45875fdd9b = L.marker(\n",
       "                [45.00923382272354, 5.292298531829391],\n",
       "                {}\n",
       "            ).addTo(map_2265d6277d2ebee137aa7339f6760c4a);\n",
       "        \n",
       "    \n",
       "            var icon_6b0e39891aae9356cb308ed9d032899f = L.AwesomeMarkers.icon(\n",
       "                {&quot;extraClasses&quot;: &quot;fa-rotate-0&quot;, &quot;icon&quot;: &quot;info-sign&quot;, &quot;iconColor&quot;: &quot;white&quot;, &quot;markerColor&quot;: &quot;red&quot;, &quot;prefix&quot;: &quot;glyphicon&quot;}\n",
       "            );\n",
       "            marker_0d17c4eae49848c29d3c5a45875fdd9b.setIcon(icon_6b0e39891aae9356cb308ed9d032899f);\n",
       "        \n",
       "    \n",
       "        var popup_7ea9187f293cddd8c618d33c6c654f39 = L.popup({&quot;maxWidth&quot;: &quot;100%&quot;});\n",
       "\n",
       "        \n",
       "            \n",
       "                var html_f08b4e1a03fdb9bcf76b78d256f5f922 = $(`&lt;div id=&quot;html_f08b4e1a03fdb9bcf76b78d256f5f922&quot; style=&quot;width: 100.0%; height: 100.0%;&quot;&gt;0&lt;/div&gt;`)[0];\n",
       "                popup_7ea9187f293cddd8c618d33c6c654f39.setContent(html_f08b4e1a03fdb9bcf76b78d256f5f922);\n",
       "            \n",
       "        \n",
       "\n",
       "        marker_0d17c4eae49848c29d3c5a45875fdd9b.bindPopup(popup_7ea9187f293cddd8c618d33c6c654f39)\n",
       "        ;\n",
       "\n",
       "        \n",
       "    \n",
       "    \n",
       "            var marker_813141215a351a120fc2cb2cf682d245 = L.marker(\n",
       "                [44.93616804237878, 5.786934433903026],\n",
       "                {}\n",
       "            ).addTo(map_2265d6277d2ebee137aa7339f6760c4a);\n",
       "        \n",
       "    \n",
       "            var icon_b2051e95aba82ff5cbda90078bdd79f2 = L.AwesomeMarkers.icon(\n",
       "                {&quot;extraClasses&quot;: &quot;fa-rotate-0&quot;, &quot;icon&quot;: &quot;info-sign&quot;, &quot;iconColor&quot;: &quot;white&quot;, &quot;markerColor&quot;: &quot;blue&quot;, &quot;prefix&quot;: &quot;glyphicon&quot;}\n",
       "            );\n",
       "            marker_813141215a351a120fc2cb2cf682d245.setIcon(icon_b2051e95aba82ff5cbda90078bdd79f2);\n",
       "        \n",
       "    \n",
       "        var popup_26db962d9e71a65f70866ea2e5a0ffb0 = L.popup({&quot;maxWidth&quot;: &quot;100%&quot;});\n",
       "\n",
       "        \n",
       "            \n",
       "                var html_8dd5614cb607be018a7ed60c12f1b4a4 = $(`&lt;div id=&quot;html_8dd5614cb607be018a7ed60c12f1b4a4&quot; style=&quot;width: 100.0%; height: 100.0%;&quot;&gt;1&lt;/div&gt;`)[0];\n",
       "                popup_26db962d9e71a65f70866ea2e5a0ffb0.setContent(html_8dd5614cb607be018a7ed60c12f1b4a4);\n",
       "            \n",
       "        \n",
       "\n",
       "        marker_813141215a351a120fc2cb2cf682d245.bindPopup(popup_26db962d9e71a65f70866ea2e5a0ffb0)\n",
       "        ;\n",
       "\n",
       "        \n",
       "    \n",
       "    \n",
       "            var marker_ba24d1e9f29009622fea01f732c62cf4 = L.marker(\n",
       "                [45.39229859589041, 5.657701404109589],\n",
       "                {}\n",
       "            ).addTo(map_2265d6277d2ebee137aa7339f6760c4a);\n",
       "        \n",
       "    \n",
       "            var icon_1967edf3a79db7c48b4087717f0c1a27 = L.AwesomeMarkers.icon(\n",
       "                {&quot;extraClasses&quot;: &quot;fa-rotate-0&quot;, &quot;icon&quot;: &quot;info-sign&quot;, &quot;iconColor&quot;: &quot;white&quot;, &quot;markerColor&quot;: &quot;red&quot;, &quot;prefix&quot;: &quot;glyphicon&quot;}\n",
       "            );\n",
       "            marker_ba24d1e9f29009622fea01f732c62cf4.setIcon(icon_1967edf3a79db7c48b4087717f0c1a27);\n",
       "        \n",
       "    \n",
       "        var popup_824e252d177792af7ef734397bac4a09 = L.popup({&quot;maxWidth&quot;: &quot;100%&quot;});\n",
       "\n",
       "        \n",
       "            \n",
       "                var html_bf97bc4c514fc1d6d7a5635b6d4d1163 = $(`&lt;div id=&quot;html_bf97bc4c514fc1d6d7a5635b6d4d1163&quot; style=&quot;width: 100.0%; height: 100.0%;&quot;&gt;0&lt;/div&gt;`)[0];\n",
       "                popup_824e252d177792af7ef734397bac4a09.setContent(html_bf97bc4c514fc1d6d7a5635b6d4d1163);\n",
       "            \n",
       "        \n",
       "\n",
       "        marker_ba24d1e9f29009622fea01f732c62cf4.bindPopup(popup_824e252d177792af7ef734397bac4a09)\n",
       "        ;\n",
       "\n",
       "        \n",
       "    \n",
       "    \n",
       "            var marker_23181541433229bf5a64f4c5283c22df = L.marker(\n",
       "                [45.36306548251781, 5.312299111888351],\n",
       "                {}\n",
       "            ).addTo(map_2265d6277d2ebee137aa7339f6760c4a);\n",
       "        \n",
       "    \n",
       "            var icon_70b73defd6ffc08dcf20f2733ad8054d = L.AwesomeMarkers.icon(\n",
       "                {&quot;extraClasses&quot;: &quot;fa-rotate-0&quot;, &quot;icon&quot;: &quot;info-sign&quot;, &quot;iconColor&quot;: &quot;white&quot;, &quot;markerColor&quot;: &quot;red&quot;, &quot;prefix&quot;: &quot;glyphicon&quot;}\n",
       "            );\n",
       "            marker_23181541433229bf5a64f4c5283c22df.setIcon(icon_70b73defd6ffc08dcf20f2733ad8054d);\n",
       "        \n",
       "    \n",
       "        var popup_1bc8647c71084ce522913e84ac416441 = L.popup({&quot;maxWidth&quot;: &quot;100%&quot;});\n",
       "\n",
       "        \n",
       "            \n",
       "                var html_834e1dd4dbb25161c104473f60f7c52b = $(`&lt;div id=&quot;html_834e1dd4dbb25161c104473f60f7c52b&quot; style=&quot;width: 100.0%; height: 100.0%;&quot;&gt;0&lt;/div&gt;`)[0];\n",
       "                popup_1bc8647c71084ce522913e84ac416441.setContent(html_834e1dd4dbb25161c104473f60f7c52b);\n",
       "            \n",
       "        \n",
       "\n",
       "        marker_23181541433229bf5a64f4c5283c22df.bindPopup(popup_1bc8647c71084ce522913e84ac416441)\n",
       "        ;\n",
       "\n",
       "        \n",
       "    \n",
       "    \n",
       "            var marker_0e66235bd9cc0a0255abb89741b58afb = L.marker(\n",
       "                [45.30976861428865, 5.8841281023814425],\n",
       "                {}\n",
       "            ).addTo(map_2265d6277d2ebee137aa7339f6760c4a);\n",
       "        \n",
       "    \n",
       "            var icon_41a86bdc452b0cda7bb5e9ceddfd7ea2 = L.AwesomeMarkers.icon(\n",
       "                {&quot;extraClasses&quot;: &quot;fa-rotate-0&quot;, &quot;icon&quot;: &quot;info-sign&quot;, &quot;iconColor&quot;: &quot;white&quot;, &quot;markerColor&quot;: &quot;blue&quot;, &quot;prefix&quot;: &quot;glyphicon&quot;}\n",
       "            );\n",
       "            marker_0e66235bd9cc0a0255abb89741b58afb.setIcon(icon_41a86bdc452b0cda7bb5e9ceddfd7ea2);\n",
       "        \n",
       "    \n",
       "        var popup_e2fce651fde4c54ae403a5d9e13b17ed = L.popup({&quot;maxWidth&quot;: &quot;100%&quot;});\n",
       "\n",
       "        \n",
       "            \n",
       "                var html_949dcfe29209992fa3eac646f181507f = $(`&lt;div id=&quot;html_949dcfe29209992fa3eac646f181507f&quot; style=&quot;width: 100.0%; height: 100.0%;&quot;&gt;1&lt;/div&gt;`)[0];\n",
       "                popup_e2fce651fde4c54ae403a5d9e13b17ed.setContent(html_949dcfe29209992fa3eac646f181507f);\n",
       "            \n",
       "        \n",
       "\n",
       "        marker_0e66235bd9cc0a0255abb89741b58afb.bindPopup(popup_e2fce651fde4c54ae403a5d9e13b17ed)\n",
       "        ;\n",
       "\n",
       "        \n",
       "    \n",
       "    \n",
       "            var marker_5c02c61268c04454e777fae8f9bf14be = L.marker(\n",
       "                [45.317701875278544, 5.803064166295268],\n",
       "                {}\n",
       "            ).addTo(map_2265d6277d2ebee137aa7339f6760c4a);\n",
       "        \n",
       "    \n",
       "            var icon_2d93336fdc7f100fcfd32415d6d8cfcb = L.AwesomeMarkers.icon(\n",
       "                {&quot;extraClasses&quot;: &quot;fa-rotate-0&quot;, &quot;icon&quot;: &quot;info-sign&quot;, &quot;iconColor&quot;: &quot;white&quot;, &quot;markerColor&quot;: &quot;blue&quot;, &quot;prefix&quot;: &quot;glyphicon&quot;}\n",
       "            );\n",
       "            marker_5c02c61268c04454e777fae8f9bf14be.setIcon(icon_2d93336fdc7f100fcfd32415d6d8cfcb);\n",
       "        \n",
       "    \n",
       "        var popup_c9fcd3811d04485f10b867e591f5c924 = L.popup({&quot;maxWidth&quot;: &quot;100%&quot;});\n",
       "\n",
       "        \n",
       "            \n",
       "                var html_d313b1a64dc0523a304e2738c76db8a4 = $(`&lt;div id=&quot;html_d313b1a64dc0523a304e2738c76db8a4&quot; style=&quot;width: 100.0%; height: 100.0%;&quot;&gt;1&lt;/div&gt;`)[0];\n",
       "                popup_c9fcd3811d04485f10b867e591f5c924.setContent(html_d313b1a64dc0523a304e2738c76db8a4);\n",
       "            \n",
       "        \n",
       "\n",
       "        marker_5c02c61268c04454e777fae8f9bf14be.bindPopup(popup_c9fcd3811d04485f10b867e591f5c924)\n",
       "        ;\n",
       "\n",
       "        \n",
       "    \n",
       "    \n",
       "            var marker_2db0750b8c8f51bd42c60d001042a8db = L.marker(\n",
       "                [45.26616900684932, 6.016935205479451],\n",
       "                {}\n",
       "            ).addTo(map_2265d6277d2ebee137aa7339f6760c4a);\n",
       "        \n",
       "    \n",
       "            var icon_58c1c3b95f3afb09be5ef787e4fa6de1 = L.AwesomeMarkers.icon(\n",
       "                {&quot;extraClasses&quot;: &quot;fa-rotate-0&quot;, &quot;icon&quot;: &quot;info-sign&quot;, &quot;iconColor&quot;: &quot;white&quot;, &quot;markerColor&quot;: &quot;green&quot;, &quot;prefix&quot;: &quot;glyphicon&quot;}\n",
       "            );\n",
       "            marker_2db0750b8c8f51bd42c60d001042a8db.setIcon(icon_58c1c3b95f3afb09be5ef787e4fa6de1);\n",
       "        \n",
       "    \n",
       "        var popup_1868c9d6f2af74339afe85fdbe2b1f2e = L.popup({&quot;maxWidth&quot;: &quot;100%&quot;});\n",
       "\n",
       "        \n",
       "            \n",
       "                var html_225b20bc7261dcecf8afda0cf922ce4a = $(`&lt;div id=&quot;html_225b20bc7261dcecf8afda0cf922ce4a&quot; style=&quot;width: 100.0%; height: 100.0%;&quot;&gt;2&lt;/div&gt;`)[0];\n",
       "                popup_1868c9d6f2af74339afe85fdbe2b1f2e.setContent(html_225b20bc7261dcecf8afda0cf922ce4a);\n",
       "            \n",
       "        \n",
       "\n",
       "        marker_2db0750b8c8f51bd42c60d001042a8db.bindPopup(popup_1868c9d6f2af74339afe85fdbe2b1f2e)\n",
       "        ;\n",
       "\n",
       "        \n",
       "    \n",
       "    \n",
       "            var marker_9508a56cbe0932cb1bdb7716a98a82ee = L.marker(\n",
       "                [45.2177014979905, 5.848467665327],\n",
       "                {}\n",
       "            ).addTo(map_2265d6277d2ebee137aa7339f6760c4a);\n",
       "        \n",
       "    \n",
       "            var icon_29462c8b4f2241b347456589023baf00 = L.AwesomeMarkers.icon(\n",
       "                {&quot;extraClasses&quot;: &quot;fa-rotate-0&quot;, &quot;icon&quot;: &quot;info-sign&quot;, &quot;iconColor&quot;: &quot;white&quot;, &quot;markerColor&quot;: &quot;red&quot;, &quot;prefix&quot;: &quot;glyphicon&quot;}\n",
       "            );\n",
       "            marker_9508a56cbe0932cb1bdb7716a98a82ee.setIcon(icon_29462c8b4f2241b347456589023baf00);\n",
       "        \n",
       "    \n",
       "        var popup_1c99ba31c2c2ab5c872140ffe127a24f = L.popup({&quot;maxWidth&quot;: &quot;100%&quot;});\n",
       "\n",
       "        \n",
       "            \n",
       "                var html_a029a7e535edfd4e5074aba50f1f9cd7 = $(`&lt;div id=&quot;html_a029a7e535edfd4e5074aba50f1f9cd7&quot; style=&quot;width: 100.0%; height: 100.0%;&quot;&gt;0&lt;/div&gt;`)[0];\n",
       "                popup_1c99ba31c2c2ab5c872140ffe127a24f.setContent(html_a029a7e535edfd4e5074aba50f1f9cd7);\n",
       "            \n",
       "        \n",
       "\n",
       "        marker_9508a56cbe0932cb1bdb7716a98a82ee.bindPopup(popup_1c99ba31c2c2ab5c872140ffe127a24f)\n",
       "        ;\n",
       "\n",
       "        \n",
       "    \n",
       "    \n",
       "            var marker_8d9ebced43808aea0933b53ab56e59b3 = L.marker(\n",
       "                [45.07846772682615, 5.560766136586926],\n",
       "                {}\n",
       "            ).addTo(map_2265d6277d2ebee137aa7339f6760c4a);\n",
       "        \n",
       "    \n",
       "            var icon_36c10656826b5803390a5b919b632dc8 = L.AwesomeMarkers.icon(\n",
       "                {&quot;extraClasses&quot;: &quot;fa-rotate-0&quot;, &quot;icon&quot;: &quot;info-sign&quot;, &quot;iconColor&quot;: &quot;white&quot;, &quot;markerColor&quot;: &quot;blue&quot;, &quot;prefix&quot;: &quot;glyphicon&quot;}\n",
       "            );\n",
       "            marker_8d9ebced43808aea0933b53ab56e59b3.setIcon(icon_36c10656826b5803390a5b919b632dc8);\n",
       "        \n",
       "    \n",
       "        var popup_b937175aa3077009cc1338e650e48ef6 = L.popup({&quot;maxWidth&quot;: &quot;100%&quot;});\n",
       "\n",
       "        \n",
       "            \n",
       "                var html_65caa0979aba220adc296547c2e5f98c = $(`&lt;div id=&quot;html_65caa0979aba220adc296547c2e5f98c&quot; style=&quot;width: 100.0%; height: 100.0%;&quot;&gt;1&lt;/div&gt;`)[0];\n",
       "                popup_b937175aa3077009cc1338e650e48ef6.setContent(html_65caa0979aba220adc296547c2e5f98c);\n",
       "            \n",
       "        \n",
       "\n",
       "        marker_8d9ebced43808aea0933b53ab56e59b3.bindPopup(popup_b937175aa3077009cc1338e650e48ef6)\n",
       "        ;\n",
       "\n",
       "        \n",
       "    \n",
       "    \n",
       "            var marker_0770d1d58a02e0b67e7c1b759ee35710 = L.marker(\n",
       "                [45.493064495500846, 6.04923387612479],\n",
       "                {}\n",
       "            ).addTo(map_2265d6277d2ebee137aa7339f6760c4a);\n",
       "        \n",
       "    \n",
       "            var icon_344992fc07518f0bbc799aa9575c150d = L.AwesomeMarkers.icon(\n",
       "                {&quot;extraClasses&quot;: &quot;fa-rotate-0&quot;, &quot;icon&quot;: &quot;info-sign&quot;, &quot;iconColor&quot;: &quot;white&quot;, &quot;markerColor&quot;: &quot;red&quot;, &quot;prefix&quot;: &quot;glyphicon&quot;}\n",
       "            );\n",
       "            marker_0770d1d58a02e0b67e7c1b759ee35710.setIcon(icon_344992fc07518f0bbc799aa9575c150d);\n",
       "        \n",
       "    \n",
       "        var popup_90e43919b3d1d388351aa89ea543278b = L.popup({&quot;maxWidth&quot;: &quot;100%&quot;});\n",
       "\n",
       "        \n",
       "            \n",
       "                var html_2c08af581a041fcd048c23ff9891c630 = $(`&lt;div id=&quot;html_2c08af581a041fcd048c23ff9891c630&quot; style=&quot;width: 100.0%; height: 100.0%;&quot;&gt;0&lt;/div&gt;`)[0];\n",
       "                popup_90e43919b3d1d388351aa89ea543278b.setContent(html_2c08af581a041fcd048c23ff9891c630);\n",
       "            \n",
       "        \n",
       "\n",
       "        marker_0770d1d58a02e0b67e7c1b759ee35710.bindPopup(popup_90e43919b3d1d388351aa89ea543278b)\n",
       "        ;\n",
       "\n",
       "        \n",
       "    \n",
       "&lt;/script&gt;\n",
       "&lt;/html&gt;\" style=\"position:absolute;width:100%;height:100%;left:0;top:0;border:none !important;\" allowfullscreen webkitallowfullscreen mozallowfullscreen></iframe></div></div>"
      ],
      "text/plain": [
       "<folium.folium.Map at 0x222f94a02e0>"
      ]
     },
     "execution_count": 50,
     "metadata": {},
     "output_type": "execute_result"
    }
   ],
   "source": [
    "m = folium.Map(location=[45.188529, 5.724524], zoom_start=12)\n",
    "for i in range(len(kmeans.labels_)):\n",
    "    folium.Marker([stations.set_index(\"number_sta\").loc[int(goodhours.columns[i]), 'lat'],\n",
    "                   stations.set_index(\"number_sta\").loc[int(goodhours.columns[i]), 'lon']],\n",
    "                  popup=kmeans.labels_[i],\n",
    "                  icon=folium.Icon(color='red' if kmeans.labels_[i] == 0 else 'blue' if kmeans.labels_[i] == 1 else 'green')\n",
    "                  ).add_to(m)\n",
    "m"
   ]
  },
  {
   "cell_type": "code",
   "execution_count": 67,
   "metadata": {},
   "outputs": [
    {
     "data": {
      "text/plain": [
       "<matplotlib.collections.PathCollection at 0x222f90ebdc0>"
      ]
     },
     "execution_count": 67,
     "metadata": {},
     "output_type": "execute_result"
    },
    {
     "data": {
      "image/png": "[encoded data removed]",
      "text/plain": [
       "<Figure size 640x480 with 1 Axes>"
      ]
     },
     "metadata": {},
     "output_type": "display_data"
    }
   ],
   "source": [
    "goodstations = stations[stations[\"number_sta\"].isin(goodhours.columns)]\n",
    "\n",
    "plt.scatter(goodstations[\"height_sta\"], goodhours.mean(axis=0))"
   ]
  },
  {
   "cell_type": "code",
   "execution_count": 56,
   "metadata": {},
   "outputs": [
    {
     "data": {
      "text/plain": [
       "12"
      ]
     },
     "execution_count": 56,
     "metadata": {},
     "output_type": "execute_result"
    }
   ],
   "source": [
    "len(kmeans.labels_)"
   ]
  },
  {
   "cell_type": "code",
   "execution_count": 59,
   "metadata": {},
   "outputs": [
    {
     "data": {
      "text/plain": [
       "Index(['26074001', '26168001', '26307001', '38269004', '38362001', '38384001',\n",
       "       '38395004', '38442008', '38504002', '38538002', '38548001', '73171002'],\n",
       "      dtype='object')"
      ]
     },
     "execution_count": 59,
     "metadata": {},
     "output_type": "execute_result"
    }
   ],
   "source": [
    "goodhours.columns"
   ]
  },
  {
   "cell_type": "code",
   "execution_count": null,
   "metadata": {},
   "outputs": [],
   "source": []
  }
 ],
 "metadata": {
  "kernelspec": {
   "display_name": "Python 3.10.8 64-bit (microsoft store)",
   "language": "python",
   "name": "python3"
  },
  "language_info": {
   "codemirror_mode": {
    "name": "ipython",
    "version": 3
   },
   "file_extension": ".py",
   "mimetype": "text/x-python",
   "name": "python",
   "nbconvert_exporter": "python",
   "pygments_lexer": "ipython3",
   "version": "3.10.9"
  },
  "orig_nbformat": 4,
  "vscode": {
   "interpreter": {
    "hash": "66f804da07f0f556d77bc3269dc5bb19edf020422864031af2885e5ff55f9079"
   }
  }
 },
 "nbformat": 4,
 "nbformat_minor": 2
}
